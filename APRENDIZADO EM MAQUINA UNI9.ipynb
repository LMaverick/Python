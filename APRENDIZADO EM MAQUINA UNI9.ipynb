{
  "nbformat": 4,
  "nbformat_minor": 0,
  "metadata": {
    "colab": {
      "provenance": [],
      "authorship_tag": "ABX9TyOK8mCreE1jqu5QInyDNXi9",
      "include_colab_link": true
    },
    "kernelspec": {
      "name": "python3",
      "display_name": "Python 3"
    },
    "language_info": {
      "name": "python"
    }
  },
  "cells": [
    {
      "cell_type": "markdown",
      "metadata": {
        "id": "view-in-github",
        "colab_type": "text"
      },
      "source": [
        "<a href=\"https://colab.research.google.com/github/LMaverick/Python/blob/main/APRENDIZADO%20EM%20MAQUINA%20UNI9.ipynb\" target=\"_parent\"><img src=\"https://colab.research.google.com/assets/colab-badge.svg\" alt=\"Open In Colab\"/></a>"
      ]
    },
    {
      "cell_type": "code",
      "execution_count": 1,
      "metadata": {
        "colab": {
          "base_uri": "https://localhost:8080/"
        },
        "id": "vrRDpDt1eMJP",
        "outputId": "b4da3173-1a61-4da4-f2c5-d2e56149859d"
      },
      "outputs": [
        {
          "output_type": "stream",
          "name": "stdout",
          "text": [
            "a =  [-20.]\n",
            "b =  [[4.43902439]]\n",
            "RESPOSTA =  [[357.31707317]]\n"
          ]
        }
      ],
      "source": [
        "import pandas as pd\n",
        "from sklearn import linear_model\n",
        "\n",
        "dados = pd.read_csv(\"https://raw.githubusercontent.com/profmailson/2024-AM/refs/heads/main/ExemploCasa.csv\",sep=\";\")\n",
        "\n",
        "#dados.head()\n",
        "\n",
        "x = dados.iloc[:, [ 0 ] ].values\n",
        "y = dados.iloc[:, [ 1 ] ].values\n",
        "\n",
        "modelo = linear_model.LinearRegression()\n",
        "\n",
        "modelo.fit(x,y)\n",
        "\n",
        "a = modelo.intercept_\n",
        "b = modelo.coef_\n",
        "r = a+b*85\n",
        "\n",
        "print('a = ', a)\n",
        "print('b = ', b)\n",
        "print('RESPOSTA = ', r)\n"
      ]
    },
    {
      "cell_type": "code",
      "source": [
        "import pandas as pd\n",
        "from sklearn import linear_model\n",
        "\n",
        "dados = pd.read_csv(\"https://raw.githubusercontent.com/profmailson/2024-AM/refs/heads/main/Sorveteria.csv\",sep=\";\")\n",
        "\n",
        "x = dados.iloc[:, [ 0 ] ].values\n",
        "y = dados.iloc[:, [ 1 ] ].values\n",
        "\n",
        "modelo = linear_model.LinearRegression()\n",
        "\n",
        "modelo.fit(x,y)\n",
        "\n",
        "n = int(input(\"Entre com a temperatura para calcular a quantidade de vendas: \"))\n",
        "t = int(input(\"Entre com a previsão de vendas para calcular a temperatura: \"))\n",
        "\n",
        "a = modelo.intercept_\n",
        "b = modelo.coef_\n",
        "r = a+b*n\n",
        "\n",
        "r3 = modelo.predict([[n]])\n",
        "\n",
        "r2 = (t+(a*-1))/b\n",
        "\n",
        "print('a = ', a)\n",
        "print('b = ', b)\n",
        "print('RESPOSTA P1 = ', r)\n",
        "print('RESPOSTA P1 USANDO PREDICT = ', r3)\n",
        "print('RESPOSTA P2 = ', r2)"
      ],
      "metadata": {
        "colab": {
          "base_uri": "https://localhost:8080/"
        },
        "id": "cMfAsX_hroGN",
        "outputId": "6adf0346-3388-4f92-eddb-6ea43148315c"
      },
      "execution_count": 2,
      "outputs": [
        {
          "output_type": "stream",
          "name": "stdout",
          "text": [
            "Entre com a temperatura para calcular a quantidade de vendas: 45\n",
            "Entre com a previsão de vendas para calcular a temperatura: 200\n",
            "a =  [-82.80292943]\n",
            "b =  [[6.62782956]]\n",
            "RESPOSTA P1 =  [[215.4494008]]\n",
            "RESPOSTA P1 USANDO PREDICT =  [[215.4494008]]\n",
            "RESPOSTA P2 =  [[42.66901055]]\n"
          ]
        }
      ]
    },
    {
      "cell_type": "code",
      "source": [
        "import pandas as pd\n",
        "from sklearn import linear_model\n",
        "\n",
        "dados = pd.read_csv(\"https://raw.githubusercontent.com/profmailson/2024-AM/refs/heads/main/Varejo.csv\",sep=\";\")\n",
        "\n",
        "x = dados.iloc[:, [ 0 ] ].values\n",
        "y = dados.iloc[:, [ 1 ] ].values\n",
        "\n",
        "modelo = linear_model.LinearRegression()\n",
        "\n",
        "modelo.fit(x,y)\n",
        "\n",
        "n = int(input(\"Entre com o preco para calcular a quantidade de vendas: \"))\n",
        "t = int(input(\"Entre com a quantidade de vendas para calcular o preco: \"))\n",
        "\n",
        "a = modelo.intercept_\n",
        "b = modelo.coef_\n",
        "r = a+b*n\n",
        "\n",
        "r3 = modelo.predict([[n]])\n",
        "\n",
        "r2 = (t+(a*-1))/b\n",
        "\n",
        "print('a = ', a)\n",
        "print('b = ', b)\n",
        "print('RESPOSTA P1 = ', r.round(0))\n",
        "print('RESPOSTA P1 USANDO PREDICT = ', r3.round(0))\n",
        "print('RESPOSTA P2 = ', r2.round(0))"
      ],
      "metadata": {
        "id": "foh5Cxt5r5jH"
      },
      "execution_count": null,
      "outputs": []
    }
  ]
}