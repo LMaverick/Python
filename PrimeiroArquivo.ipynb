{
  "nbformat": 4,
  "nbformat_minor": 0,
  "metadata": {
    "colab": {
      "name": "Untitled0.ipynb",
      "provenance": [],
      "authorship_tag": "ABX9TyN0lnhtQ5cYU5MEZGbi3vyQ",
      "include_colab_link": true
    },
    "kernelspec": {
      "name": "python3",
      "display_name": "Python 3"
    },
    "language_info": {
      "name": "python"
    }
  },
  "cells": [
    {
      "cell_type": "markdown",
      "metadata": {
        "id": "view-in-github",
        "colab_type": "text"
      },
      "source": [
        "<a href=\"https://colab.research.google.com/github/LMaverick/Python/blob/main/PrimeiroArquivo.ipynb\" target=\"_parent\"><img src=\"https://colab.research.google.com/assets/colab-badge.svg\" alt=\"Open In Colab\"/></a>"
      ]
    },
    {
      "cell_type": "markdown",
      "source": [
        "### Olá mundo\n"
      ],
      "metadata": {
        "id": "yz3eQKiLTVz_"
      }
    },
    {
      "cell_type": "code",
      "execution_count": 7,
      "metadata": {
        "colab": {
          "base_uri": "https://localhost:8080/"
        },
        "id": "FaRpjNiUsp0M",
        "outputId": "7c6148a8-843a-41bc-a325-dedd612ef4e8"
      },
      "outputs": [
        {
          "output_type": "stream",
          "name": "stdout",
          "text": [
            "hello world\n",
            "Aula 1 do curso de Python\n",
            "curso de python para iniciantes\n",
            "CURSO DE PYTHON PARA INICIANTES\n"
          ]
        },
        {
          "output_type": "execute_result",
          "data": {
            "text/plain": [
              "14"
            ]
          },
          "metadata": {},
          "execution_count": 7
        }
      ],
      "source": [
        "### print escreve ou exibe algo\n",
        "print('hello world')\n",
        "\n",
        "## substituindo valores com o format\n",
        "print(\"Aula {} do curso de {}\".format(1, \"Python\")) \n",
        "\n",
        "##Transformando maiuscula em minuscular e vice e versa\n",
        "print(\"Curso de Python para Iniciantes\".lower())\n",
        "print(\"Curso de Python para Iniciantes\".upper())\n",
        "\n",
        "## o tipo STR\n",
        "type(\"Curso de python\")\n",
        "\n",
        "## lidando com numeros e operadores\n",
        "2 + 2\n",
        "2-1\n",
        "7*3\n",
        "5**2 ##exponenciação\n",
        "5/2\n",
        "\n",
        "5%2 ##resto da divisão\n",
        "\n",
        "2*(2+5)"
      ]
    }
  ]
}